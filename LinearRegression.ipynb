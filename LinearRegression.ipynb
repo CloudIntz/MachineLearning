{
  "nbformat": 4,
  "nbformat_minor": 0,
  "metadata": {
    "colab": {
      "provenance": [],
      "authorship_tag": "ABX9TyPuvSYcxNTfqSoqkS8FBzKS",
      "include_colab_link": true
    },
    "kernelspec": {
      "name": "python3",
      "display_name": "Python 3"
    },
    "language_info": {
      "name": "python"
    }
  },
  "cells": [
    {
      "cell_type": "markdown",
      "metadata": {
        "id": "view-in-github",
        "colab_type": "text"
      },
      "source": [
        "<a href=\"https://colab.research.google.com/github/CloudIntz/MachineLearning/blob/main/LinearRegression.ipynb\" target=\"_parent\"><img src=\"https://colab.research.google.com/assets/colab-badge.svg\" alt=\"Open In Colab\"/></a>"
      ]
    },
    {
      "cell_type": "code",
      "execution_count": 8,
      "metadata": {
        "id": "l48IRKPlnYT4",
        "colab": {
          "base_uri": "https://localhost:8080/"
        },
        "outputId": "431a7196-4eb6-4da5-9e5f-2ddae1b03dcd"
      },
      "outputs": [
        {
          "output_type": "stream",
          "name": "stdout",
          "text": [
            "Mean Squared Error: 1029355917.772831\n",
            "Predicted Values: [452502.82245592 273705.11135169 267319.47881225 248162.58119394]\n"
          ]
        }
      ],
      "source": [
        "#Import necessary libraries\n",
        "from sklearn.linear_model import LinearRegression\n",
        "from sklearn.model_selection import train_test_split\n",
        "from sklearn.metrics import mean_squared_error\n",
        "import numpy as np\n",
        "\n",
        "\n",
        "# sample data ( house size vs house price)\n",
        "x = np.array([[1400],[1600],[1700],[1875],[1100],[1550],[2350], [3000], [3500]])\n",
        "y = np.array([245000, 312000, 279000, 308000, 199000, 219000, 405000, 470000, 500000])\n",
        "\n",
        "#Split the data into training and testing sets\n",
        "X_train, X_test, y_train, y_test = train_test_split (x, y, test_size=0.4, random_state=42)\n",
        "\n",
        "#Initialize and train the model\n",
        "model = LinearRegression()\n",
        "model.fit(X_train, y_train)\n",
        "\n",
        "#Make Predictions\n",
        "y_pred = model.predict(X_test)\n",
        "\n",
        "#Evaluate the model\n",
        "mse = mean_squared_error(y_test, y_pred)\n",
        "\n",
        "print(\"Mean Squared Error:\", mse)\n",
        "print(\"Predicted Values:\", y_pred)\n"
      ]
    }
  ]
}